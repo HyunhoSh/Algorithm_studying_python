{
 "cells": [
  {
   "cell_type": "markdown",
   "id": "tribal-automation",
   "metadata": {},
   "source": [
    "# Q1. 국영수\n",
    "## input: student name, Korean score, English score, Math score\n",
    "### Sort them(Korean score: Descending, English: Ascending(if Korean scores are same between or among students), Math: Descending(if Korean scores and English scores are same between or among students), Name: Ascending(if all scores are same between or among students)"
   ]
  },
  {
   "cell_type": "code",
   "execution_count": 2,
   "id": "corporate-token",
   "metadata": {},
   "outputs": [],
   "source": [
    "import sys\n",
    "\n",
    "n = int(sys.stdin.readline())\n",
    "\n",
    "student = []\n",
    "\n",
    "for i in range(n):\n",
    "    info_ = sys.stdin.readline().split()\n",
    "    #info_[0] -> name, info_[1] -> kor, info_[2] = eng, info_[3] = math\n",
    "    student.append(info_)\n",
    "\n",
    "\n",
    "new_list = sorted(student, key=lambda x: (-int(x[1]),int(x[2]),-int(x[3]),x[0]))\n",
    "\n",
    "for j in new_list:\n",
    "    print(j[0])"
   ]
  },
  {
   "cell_type": "markdown",
   "id": "addressed-range",
   "metadata": {},
   "source": [
    "# Q2. 안테나\n",
    "## 링크: https://www.acmicpc.net/problem/18310\n",
    "### 첫 번째 코드는 시간 초과 에러\n",
    "### 두 번째 코드는 책에서 참고"
   ]
  },
  {
   "cell_type": "code",
   "execution_count": 4,
   "id": "american-battle",
   "metadata": {},
   "outputs": [],
   "source": [
    "# First code -> Time over error (because of using double 'for')\n",
    "import sys\n",
    "\n",
    "n = int(sys.stdin.readline())\n",
    "\n",
    "list_m = list(map(int, sys.stdin.readline().split()))\n",
    "\n",
    "list_m.sort()\n",
    "\n",
    "res = []\n",
    "\n",
    "for i in range(1,list_m[-1]):\n",
    "    tmp = []\n",
    "    res_ = 0\n",
    "    for j in list_m:\n",
    "        res_+=abs(j-i)\n",
    "    tmp.append(res_)\n",
    "    tmp.append(i)\n",
    "    res.append(tmp)\n",
    "\n",
    "min_res = []\n",
    "\n",
    "min_ = res[0][0]\n",
    "\n",
    "res_new = sorted(res, key=lambda x: (x[0],x[1]))\n",
    "\n",
    "print(res_new[0][1])"
   ]
  },
  {
   "cell_type": "code",
   "execution_count": 8,
   "id": "determined-superior",
   "metadata": {},
   "outputs": [
    {
     "name": "stdout",
     "output_type": "stream",
     "text": [
      "4\n",
      "5 1 7 9\n",
      "5\n"
     ]
    }
   ],
   "source": [
    "# Second code from book\n",
    "n = int(input())\n",
    "data = list(map(int, input().split()))\n",
    "data.sort()\n",
    "\n",
    "print(data[(n-1)//2])"
   ]
  },
  {
   "cell_type": "markdown",
   "id": "lyric-internship",
   "metadata": {},
   "source": [
    "# Q3. 카드 정렬하기\n",
    "## 링크: https://www.acmicpc.net/problem/1715"
   ]
  },
  {
   "cell_type": "code",
   "execution_count": null,
   "id": "prospective-conclusion",
   "metadata": {},
   "outputs": [],
   "source": [
    "import sys\n",
    "import heapq\n",
    "\n",
    "n = int(sys.stdin.readline())\n",
    "\n",
    "num_card = []\n",
    "\n",
    "for i in range(n):\n",
    "    k = int(sys.stdin.readline())\n",
    "    num_card.append(k)\n",
    "\n",
    "num_card.sort()\n",
    "heap = []\n",
    "\n",
    "for i in range(n):\n",
    "    heapq.heappush(heap,num_card[i])\n",
    "    \n",
    "res = 0\n",
    "\n",
    "\n",
    "while len(heap)!=1:\n",
    "    first = heapq.heappop(heap)\n",
    "    second = heapq.heappop(heap)\n",
    "\n",
    "    tmp = first+second\n",
    "    \n",
    "    res+=tmp\n",
    "    heapq.heappush(heap, tmp)\n",
    "\n",
    "print(res)"
   ]
  },
  {
   "cell_type": "code",
   "execution_count": null,
   "id": "turkish-payday",
   "metadata": {},
   "outputs": [],
   "source": []
  }
 ],
 "metadata": {
  "kernelspec": {
   "display_name": "Python 3",
   "language": "python",
   "name": "python3"
  },
  "language_info": {
   "codemirror_mode": {
    "name": "ipython",
    "version": 3
   },
   "file_extension": ".py",
   "mimetype": "text/x-python",
   "name": "python",
   "nbconvert_exporter": "python",
   "pygments_lexer": "ipython3",
   "version": "3.9.1"
  }
 },
 "nbformat": 4,
 "nbformat_minor": 5
}
