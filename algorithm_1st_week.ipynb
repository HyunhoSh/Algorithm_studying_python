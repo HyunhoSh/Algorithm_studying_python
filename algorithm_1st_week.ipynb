{
 "cells": [
  {
   "cell_type": "markdown",
   "id": "tamil-entry",
   "metadata": {},
   "source": [
    "# 1. Greedy Algorithm \n",
    "## 큰 수의 법칙 -> n,m,k가 주어지면, n개의 원소를 가진 자연수 배열이 나오고, m번 더해서 가장 큰 수를 만든다. 대신 한 원소를 k번을 연속해서 초과하여 쓸 수 없다.\n",
    "## Q1. \n",
    "### - 첫째 줄에 N(2<=N<=1000), M(1<=M<=10000), K(1<=K<=10000)의 자연수가 주어지며, 각 자연수는 공백으로 구분한다.\n",
    "### - 둘째 줄에 N개의 자연수가 주어진다. 각 자연수는 공백으로 구분한다. 단, 각각의 자연수는 1 이상 10000 이하의 수로 주어진다.\n",
    "### - 입력으로 주어지는 K는 항상 M보다 작거나 같다.\n",
    "#### Condition: 첫째 줄에 동빈이는 큰 수의 법칙에 따라 더해진 답을 출력한다."
   ]
  },
  {
   "cell_type": "code",
   "execution_count": 1,
   "id": "nasty-sensitivity",
   "metadata": {},
   "outputs": [
    {
     "name": "stdout",
     "output_type": "stream",
     "text": [
      "5 8 3\n",
      "2 4 5 4 6\n"
     ]
    },
    {
     "data": {
      "text/plain": [
       "46"
      ]
     },
     "execution_count": 1,
     "metadata": {},
     "output_type": "execute_result"
    }
   ],
   "source": [
    "#n,m,k 입력받기\n",
    "n,m,k = map(int, input().split())\n",
    "#n개의 원소를 가지는 배열 만들기\n",
    "data = list(map(int, input().split()))\n",
    "\n",
    "data.sort()\n",
    "\n",
    "\n",
    "res = 0\n",
    "\n",
    "for i in range(m):\n",
    "    if((i+1)%(k+1)==0):\n",
    "        res = res + data[n-2]\n",
    "    else:\n",
    "        res = res + data[n-1]\n",
    "\n",
    "res"
   ]
  },
  {
   "cell_type": "markdown",
   "id": "constitutional-migration",
   "metadata": {},
   "source": [
    "# Q2. n,m(n은 행, m은 열의 개수)을 입력 받고, 카드를 뽑는 문제. 특정한 행을 선택하여서 그 행에서의 가장 수가 작은 카드를 뽑아야하는데, 이 때 그 중에서도 가장 수가 높은 카드를 뽑아야함."
   ]
  },
  {
   "cell_type": "code",
   "execution_count": 10,
   "id": "several-hometown",
   "metadata": {},
   "outputs": [
    {
     "name": "stdout",
     "output_type": "stream",
     "text": [
      "3 3\n",
      "3 1 2\n",
      "4 1 4\n",
      "2 2 2\n"
     ]
    },
    {
     "data": {
      "text/plain": [
       "2"
      ]
     },
     "execution_count": 10,
     "metadata": {},
     "output_type": "execute_result"
    }
   ],
   "source": [
    "#m,n 입력받기, n이 행, m은 열의 개수\n",
    "n,m = map(int, input().split())\n",
    "#카드 배열하기\n",
    "card = [list(map(int, input().split())) for _ in range(n)]\n",
    "\n",
    "temp_card = card\n",
    "k = len(temp_card)\n",
    "\n",
    "for i in range(k):\n",
    "    temp_card[i].sort\n",
    "\n",
    "line = []\n",
    "\n",
    "for j in range(k):\n",
    "    line.append(temp_card[j][0])\n",
    "\n",
    "line.sort\n",
    "line[k-1]"
   ]
  },
  {
   "cell_type": "markdown",
   "id": "breeding-beginning",
   "metadata": {},
   "source": [
    "# Q3. 어떠한 수 N이 1이 될 때까지 다음의 두 과정 중 하나를 반복적으로 선택하여 수행하려함. 단, 두 번째 연산은 N이 K로 나누어떨어질 때만 선택 가능하다.\n",
    "## 1. N에서 1을 뺌\n",
    "## 2. N을 K로 나눔\n",
    "\n",
    "### N와 K가 주어질 때, N이 1이 될 때까지 1번 혹은 2번의 과정을 수행해야하는 최소 횟수 구하기.\n",
    "#### - 첫째 줄에 N(2<=N<=100000)과 K(2<=K<=100000)가 공백으로 구분되며 각각 자연수로 주어지며, N은 항상 K보다 크게 입력됨."
   ]
  },
  {
   "cell_type": "code",
   "execution_count": 12,
   "id": "retired-stable",
   "metadata": {},
   "outputs": [
    {
     "name": "stdout",
     "output_type": "stream",
     "text": [
      "17 4\n",
      "시행횟수:3\n"
     ]
    }
   ],
   "source": [
    "#n,k 입력받기\n",
    "n, k = map(int, input().split())\n",
    "#방법1: n에서 1빼기\n",
    "#방법2: n을 k로 나누기\n",
    "\n",
    "cnt = 0 #시행횟수 변수\n",
    "\n",
    "while True:\n",
    "    if n==1:\n",
    "        break\n",
    "    elif(n%k==0):\n",
    "        n = n/k\n",
    "        cnt+=1\n",
    "    else:\n",
    "        n = n-1\n",
    "        cnt+=1\n",
    "\n",
    "print(\"시행횟수:{}\".format(cnt))"
   ]
  },
  {
   "cell_type": "code",
   "execution_count": null,
   "id": "incident-apollo",
   "metadata": {},
   "outputs": [],
   "source": []
  }
 ],
 "metadata": {
  "kernelspec": {
   "display_name": "Python 3",
   "language": "python",
   "name": "python3"
  },
  "language_info": {
   "codemirror_mode": {
    "name": "ipython",
    "version": 3
   },
   "file_extension": ".py",
   "mimetype": "text/x-python",
   "name": "python",
   "nbconvert_exporter": "python",
   "pygments_lexer": "ipython3",
   "version": "3.9.1"
  }
 },
 "nbformat": 4,
 "nbformat_minor": 5
}
